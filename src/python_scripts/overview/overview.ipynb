{
 "cells": [
  {
   "cell_type": "markdown",
   "metadata": {},
   "source": [
    "Generators</br>\n",
    "Generator in python is a function that returns a lazy iterator\n",
    "it doesn't store all memory in data, and returns only current value when requested\n",
    "Used to read large files&collections etc."
   ]
  },
  {
   "cell_type": "code",
   "execution_count": null,
   "metadata": {},
   "outputs": [],
   "source": [
    "def generator_infinite_sequence():\n",
    "    number = 0\n",
    "    while True:\n",
    "        yield number\n",
    "        number += 1\n",
    "\n",
    "\n",
    "for i in generator_infinite_sequence():\n",
    "    print(i)\n",
    "    if (i > 3):\n",
    "        break"
   ]
  },
  {
   "cell_type": "markdown",
   "metadata": {},
   "source": [
    "Class"
   ]
  },
  {
   "cell_type": "code",
   "execution_count": null,
   "metadata": {},
   "outputs": [],
   "source": [
    "class Task:\n",
    "    def __init__(self, taskInvoker, fileName):\n",
    "        self.taskInvoker = taskInvoker\n",
    "        self.fileName = fileName\n",
    "\n",
    "    def ReadFromFile(self):\n",
    "        file = open(self.fileName, \"r\")\n",
    "        return file.read()\n",
    "\n",
    "    def WriteToFile(self, textToWrite):\n",
    "        file = open(self.fileName, \"a+\")\n",
    "        file.write(textToWrite + \"\\n\")\n",
    "\n",
    "    def Move(self):\n",
    "        print(\"mov3\")\n",
    "\n",
    "    def Draw(self):\n",
    "        print(\"draw\")\n",
    "        return \"draw\"\n"
   ]
  },
  {
   "cell_type": "markdown",
   "metadata": {},
   "source": [
    "Spread operator\n",
    "np is used to generate image RGB tensor 50x50x3(3 channels).\n",
    "spread operator is used to change particular channel values\n",
    "spread operator allows for iterable unpacking."
   ]
  },
  {
   "cell_type": "code",
   "execution_count": null,
   "metadata": {},
   "outputs": [],
   "source": [
    "import cv2\n",
    "import numpy as np\n",
    "from matplotlib import pyplot as plt\n",
    "plt.rcParams['figure.figsize'] = [10, 5]\n",
    "\n",
    "color_1 = np.zeros((50, 50, 3), dtype=np.uint8)\n",
    "color_1[..., 0] = 100\n",
    "color_1[..., 1] = 200\n",
    "color_1[..., 2] = 100\n",
    "\n",
    "# |color_1 - color_2| = 150\n",
    "color_2 = np.zeros((50, 50, 3), dtype=np.uint8)\n",
    "color_2[..., 0] = 150\n",
    "color_2[..., 1] = 250\n",
    "color_2[..., 2] = 150\n",
    "\n",
    "# |color_1 - color_3| = 120\n",
    "color_3 = np.zeros((50, 50, 3), dtype=np.uint8)\n",
    "color_3[..., 0] = 100\n",
    "color_3[..., 1] = 80\n",
    "color_3[..., 2] = 100\n",
    "\n",
    "plt.subplot(131), plt.imshow(color_1), plt.title('Color 1')\n",
    "plt.subplot(132), plt.imshow(color_2), plt.title('Color 2')\n",
    "plt.subplot(133), plt.imshow(color_3), plt.title('Color 3')"
   ]
  },
  {
   "cell_type": "markdown",
   "metadata": {},
   "source": [
    "Tensor logical operations"
   ]
  },
  {
   "cell_type": "code",
   "execution_count": null,
   "metadata": {},
   "outputs": [],
   "source": [
    "img = cv2.imread('data/kodim07.png')\n",
    "img = cv2.cvtColor(img, cv2.COLOR_BGR2RGB)\n",
    "\n",
    "noisy = img/255 + 0.1*np.random.randn(*img.shape)\n",
    "noisy[noisy < 0] = 0\n",
    "noisy[noisy > 1] = 1\n",
    "noisy = (255*noisy).astype(np.uint8)\n",
    "\n",
    "plt.subplot(121), plt.imshow(img), plt.title('Original')\n",
    "plt.subplot(122), plt.imshow(noisy), plt.title('Noisy')"
   ]
  }
 ],
 "metadata": {
  "kernelspec": {
   "display_name": "cvision",
   "language": "python",
   "name": "python3"
  },
  "language_info": {
   "codemirror_mode": {
    "name": "ipython",
    "version": 3
   },
   "file_extension": ".py",
   "mimetype": "text/x-python",
   "name": "python",
   "nbconvert_exporter": "python",
   "pygments_lexer": "ipython3",
   "version": "3.11.5"
  }
 },
 "nbformat": 4,
 "nbformat_minor": 2
}
